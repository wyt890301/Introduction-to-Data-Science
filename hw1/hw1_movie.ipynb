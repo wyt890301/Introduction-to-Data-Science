{
 "cells": [
  {
   "cell_type": "code",
   "execution_count": 1,
   "metadata": {},
   "outputs": [],
   "source": [
    "import pandas as pd\n",
    "\n",
    "df = pd.read_csv('./data/IMDB-Movie-Data.csv')\n",
    "df = df.fillna(value=0)"
   ]
  },
  {
   "cell_type": "code",
   "execution_count": 2,
   "metadata": {},
   "outputs": [
    {
     "name": "stdout",
     "output_type": "stream",
     "text": [
      "Q1：Top‐3 movies with the highest ratings in 2016?\n"
     ]
    },
    {
     "data": {
      "text/html": [
       "<div>\n",
       "<style scoped>\n",
       "    .dataframe tbody tr th:only-of-type {\n",
       "        vertical-align: middle;\n",
       "    }\n",
       "\n",
       "    .dataframe tbody tr th {\n",
       "        vertical-align: top;\n",
       "    }\n",
       "\n",
       "    .dataframe thead th {\n",
       "        text-align: right;\n",
       "    }\n",
       "</style>\n",
       "<table border=\"1\" class=\"dataframe\">\n",
       "  <thead>\n",
       "    <tr style=\"text-align: right;\">\n",
       "      <th></th>\n",
       "      <th>Title</th>\n",
       "      <th>Rating</th>\n",
       "    </tr>\n",
       "  </thead>\n",
       "  <tbody>\n",
       "    <tr>\n",
       "      <th>2</th>\n",
       "      <td>Dangal</td>\n",
       "      <td>8.8</td>\n",
       "    </tr>\n",
       "    <tr>\n",
       "      <th>4</th>\n",
       "      <td>Kimi no na wa</td>\n",
       "      <td>8.6</td>\n",
       "    </tr>\n",
       "    <tr>\n",
       "      <th>15</th>\n",
       "      <td>Koe no katachi</td>\n",
       "      <td>8.4</td>\n",
       "    </tr>\n",
       "  </tbody>\n",
       "</table>\n",
       "</div>"
      ],
      "text/plain": [
       "             Title  Rating\n",
       "2           Dangal     8.8\n",
       "4    Kimi no na wa     8.6\n",
       "15  Koe no katachi     8.4"
      ]
     },
     "execution_count": 2,
     "metadata": {},
     "output_type": "execute_result"
    }
   ],
   "source": [
    "# Question1\n",
    "print(\"Q1：Top‐3 movies with the highest ratings in 2016?\")\n",
    "\n",
    "# 先找出2016年的電影再排序\n",
    "df1 = df.copy()\n",
    "df1 = df1[df1['Year'] == 2016]\n",
    "df1.sort_values(by=\"Rating\")\n",
    "df1[[\"Title\", \"Rating\"]].head(3)"
   ]
  },
  {
   "cell_type": "code",
   "execution_count": 2,
   "metadata": {},
   "outputs": [
    {
     "name": "stdout",
     "output_type": "stream",
     "text": [
      "Q2: The actor generating the highest average revenue?\n"
     ]
    },
    {
     "data": {
      "text/html": [
       "<div>\n",
       "<style scoped>\n",
       "    .dataframe tbody tr th:only-of-type {\n",
       "        vertical-align: middle;\n",
       "    }\n",
       "\n",
       "    .dataframe tbody tr th {\n",
       "        vertical-align: top;\n",
       "    }\n",
       "\n",
       "    .dataframe thead th {\n",
       "        text-align: right;\n",
       "    }\n",
       "</style>\n",
       "<table border=\"1\" class=\"dataframe\">\n",
       "  <thead>\n",
       "    <tr style=\"text-align: right;\">\n",
       "      <th></th>\n",
       "      <th>revenue</th>\n",
       "    </tr>\n",
       "    <tr>\n",
       "      <th>actor</th>\n",
       "      <th></th>\n",
       "    </tr>\n",
       "  </thead>\n",
       "  <tbody>\n",
       "    <tr>\n",
       "      <th>Daisy Ridley</th>\n",
       "      <td>936.63</td>\n",
       "    </tr>\n",
       "    <tr>\n",
       "      <th>John Boyega</th>\n",
       "      <td>936.63</td>\n",
       "    </tr>\n",
       "  </tbody>\n",
       "</table>\n",
       "</div>"
      ],
      "text/plain": [
       "              revenue\n",
       "actor                \n",
       "Daisy Ridley   936.63\n",
       "John Boyega    936.63"
      ]
     },
     "execution_count": 2,
     "metadata": {},
     "output_type": "execute_result"
    }
   ],
   "source": [
    "# Question2\n",
    "print(\"Q2: The actor generating the highest average revenue?\")\n",
    "\n",
    "df2 = df.copy()\n",
    "\n",
    "# 收集所有Actor的名字及收益\n",
    "all_actors = [],[]\n",
    "df2[\"Actors\"] = df2[\"Actors\"].str.split(\"|\")\n",
    "\n",
    "for idx, actors in enumerate(df2[\"Actors\"]):\n",
    "    for actor in actors:\n",
    "        all_actors[0].append(actor.strip(\" \"))\n",
    "        all_actors[1].append(df2[\"Revenue (Millions)\"][idx])\n",
    "\n",
    "# 將array轉成dataframe形式並利用groupby求mean\n",
    "actor_df = pd.DataFrame(all_actors, index=[\"actor\", \"revenue\"])\n",
    "actor_df = actor_df.T\n",
    "actor_df[\"revenue\"] = actor_df[\"revenue\"].astype(\"float\")\n",
    "actor_df = actor_df.groupby(\"actor\").mean()\n",
    "max_revenue = actor_df[\"revenue\"].max()\n",
    "actor_df[actor_df['revenue'] == max_revenue]"
   ]
  },
  {
   "cell_type": "code",
   "execution_count": 3,
   "metadata": {},
   "outputs": [
    {
     "name": "stdout",
     "output_type": "stream",
     "text": [
      "Q3: The average rating of Emma Watson’s movies?\n",
      "A3：7.17\n"
     ]
    }
   ],
   "source": [
    "# Question3\n",
    "print(\"Q3: The average rating of Emma Watson’s movies?\") \n",
    "\n",
    "# 蒐集Emma Watson所有rating\n",
    "total_rating = []\n",
    "for idx in range(len(df2)):\n",
    "    data = df2.loc[idx]\n",
    "    if \" Emma Watson\" in data[\"Actors\"] or \"Emma Watson\" in data[\"Actors\"]:\n",
    "        total_rating.append(data[\"Rating\"])\n",
    "                   \n",
    "rating_mean = pd.Series(data=total_rating, dtype=float).mean()\n",
    "print(\"A3：%.2f\" % rating_mean)"
   ]
  },
  {
   "cell_type": "code",
   "execution_count": 4,
   "metadata": {},
   "outputs": [
    {
     "name": "stdout",
     "output_type": "stream",
     "text": [
      "Q4: Top-3 directors who collaborate with the most actors?\n"
     ]
    },
    {
     "data": {
      "text/plain": [
       "director\n",
       "Ridley Scott          32\n",
       "David Yates           24\n",
       "M. Night Shyamalan    24\n",
       "dtype: int64"
      ]
     },
     "execution_count": 4,
     "metadata": {},
     "output_type": "execute_result"
    }
   ],
   "source": [
    "# Question 4   \n",
    "print(\"Q4: Top-3 directors who collaborate with the most actors?\")\n",
    "\n",
    "#蒐集導演和演員\n",
    "all_directors=[], []\n",
    "for idx, actors in enumerate(df2[\"Actors\"]):\n",
    "    for actor in actors:\n",
    "        all_directors[0].append(df2[\"Director\"][idx])\n",
    "        all_directors[1].append(actor.strip(\" \"))\n",
    "        \n",
    "director_df = pd.DataFrame(all_directors, index=[\"director\", \"actor\"])\n",
    "director_df.T.groupby(\"director\").size().nlargest(3)"
   ]
  },
  {
   "cell_type": "code",
   "execution_count": 5,
   "metadata": {},
   "outputs": [
    {
     "name": "stdout",
     "output_type": "stream",
     "text": [
      "Q5: Top-2 actors playing in the most genres of movies?\n"
     ]
    },
    {
     "data": {
      "text/plain": [
       "actor\n",
       "Brad Pitt    14\n",
       "Amy Adams    13\n",
       "dtype: int64"
      ]
     },
     "execution_count": 5,
     "metadata": {},
     "output_type": "execute_result"
    }
   ],
   "source": [
    "# Question 5   \n",
    "print(\"Q5: Top-2 actors playing in the most genres of movies?\")\n",
    "\n",
    "# 收集所有Actor的名字及電影種類\n",
    "all_actors = [],[]\n",
    "df2[\"Genre\"] = df2[\"Genre\"].str.split(\"|\")\n",
    "\n",
    "for idx, actors in enumerate(df2[\"Actors\"]):\n",
    "    for actor in actors:\n",
    "        for genre in df2[\"Genre\"][idx]:\n",
    "            all_actors[0].append(actor.strip(\" \"))\n",
    "            all_actors[1].append(genre)\n",
    "            \n",
    "# 去除重複的演員及演出種類            \n",
    "genre_df = pd.DataFrame(all_actors, index=[\"actor\", \"genre\"])\n",
    "genre_df = genre_df.T.drop_duplicates()            \n",
    "genre_df.groupby(\"actor\").size().nlargest(2)"
   ]
  },
  {
   "cell_type": "code",
   "execution_count": 6,
   "metadata": {},
   "outputs": [
    {
     "name": "stdout",
     "output_type": "stream",
     "text": [
      "Q6: All actors whose movies lead to the largest maximum gap of years?\n",
      "A6: 最大GAP YEAR為10年，共有53個演員！\n",
      "['Abbie Cornish' 'Anne Hathaway' 'Audrey Tautou' 'Ben Kingsley'\n",
      " 'Ben Whishaw' 'Bob Balaban' 'Brad Pitt' 'Bryce Dallas Howard'\n",
      " 'Chiwetel Ejiofor' 'Christian Bale' 'Christopher Plummer'\n",
      " 'Denzel Washington' 'Dominic West' 'Dustin Hoffman' 'Edward Norton'\n",
      " 'Ellen Burstyn' 'Emily Blunt' 'Eva Green' 'Gerard Butler' 'Hugh Jackman'\n",
      " 'Jack Davenport' 'Jennifer Aniston' 'Jennifer Connelly' 'Jeremy Irons'\n",
      " 'Jessica Biel' 'Johnny Depp' 'Judi Dench' 'Justin Theroux' 'Kang-ho Song'\n",
      " 'Kate Bosworth' 'Kevin Spacey' 'Kirsten Dunst' 'Luke Wilson'\n",
      " 'Marion Cotillard' 'Mark Wahlberg' 'Matt Damon' 'Maya Rudolph'\n",
      " 'Meryl Streep' 'Michelle Monaghan' 'Morgan Freeman' 'Owen Wilson'\n",
      " 'Paula Patton' 'Rachel Weisz' 'Russell Crowe' 'Sacha Baron Cohen'\n",
      " 'Samuel L. Jackson' 'Scarlett Johansson' 'Steve Carell' 'Tom Cruise'\n",
      " 'Tom Hanks' 'Toni Collette' 'Will Ferrell' 'Will Smith']\n"
     ]
    }
   ],
   "source": [
    "# Question 6   \n",
    "print(\"Q6: All actors whose movies lead to the largest maximum gap of years?\")\n",
    "\n",
    "# 收集所有Actor的名字及電影種類\n",
    "all_actors = [],[]\n",
    "\n",
    "for idx, actors in enumerate(df2[\"Actors\"]):\n",
    "    for actor in actors:\n",
    "        all_actors[0].append(actor.strip(\" \"))\n",
    "        all_actors[1].append(df2[\"Year\"][idx])\n",
    "\n",
    "# 去除重複的演員及演出年        \n",
    "year_df = pd.DataFrame(all_actors, index=[\"actor\", \"year\"])\n",
    "year_df = year_df.T.drop_duplicates().groupby(\"actor\")\n",
    "\n",
    "# 計算所有actor的gap_year\n",
    "year_diff_df = year_df.apply(lambda x: x.max() - x.min())\n",
    "max_year = year_diff_df[\"year\"].max()\n",
    "year_diff_df = year_diff_df[year_diff_df['year'] == max_year]\n",
    "print(\"A6: 最大GAP YEAR為%d年，共有%d個演員！\" % (max_year,len(year_diff_df)))\n",
    "print(year_diff_df.index.values)"
   ]
  },
  {
   "cell_type": "code",
   "execution_count": 7,
   "metadata": {},
   "outputs": [
    {
     "name": "stdout",
     "output_type": "stream",
     "text": [
      "Q7: Find all actors who collaborate with Johnny Depp in direct and indirect ways.\n",
      "A7: 總共有1808個演員和Johnny Depp有關係~~\n",
      "['Johnny Depp' 'Helena Bonham Carter' 'Alan Rickman' ... 'Nia Vardalos'\n",
      " ' Michael Constantine' ' Lainie Kazan']\n"
     ]
    }
   ],
   "source": [
    "# Question 7   \n",
    "print(\"Q7: Find all actors who collaborate with Johnny Depp in direct and indirect ways.\")\n",
    "\n",
    "# 收集所有和Johnny Depp有直接關係的Actor名字\n",
    "all_actors = []\n",
    "\n",
    "for actors in df2[\"Actors\"]:\n",
    "    if \"Johnny Depp\" in actors or \" Johnny Depp\" in actors:\n",
    "        for actor in actors:\n",
    "            all_actors.append(actor.strip(\" \"))\n",
    "\n",
    "actor_sr = pd.Series(all_actors).drop_duplicates()\n",
    "\n",
    "# 找出與Johnny Depp有間接關係的\n",
    "old_len = 0\n",
    "new_len = len(actor_sr)\n",
    "while(new_len != old_len):\n",
    "    for actors in df2[\"Actors\"]:\n",
    "        for actor in actor_sr:\n",
    "            if actor in actors:\n",
    "                actor_sr = actor_sr.append(pd.Series(actors))\n",
    "                break\n",
    "    actor_sr = actor_sr.drop_duplicates()\n",
    "    old_len = new_len\n",
    "    new_len = len(actor_sr)\n",
    "\n",
    "print(\"A7: 總共有%d個演員和Johnny Depp有關係~~\" %len(actor_sr))\n",
    "print(actor_sr.values)"
   ]
  }
 ],
 "metadata": {
  "kernelspec": {
   "display_name": "Python 3",
   "language": "python",
   "name": "python3"
  },
  "language_info": {
   "codemirror_mode": {
    "name": "ipython",
    "version": 3
   },
   "file_extension": ".py",
   "mimetype": "text/x-python",
   "name": "python",
   "nbconvert_exporter": "python",
   "pygments_lexer": "ipython3",
   "version": "3.8.5"
  }
 },
 "nbformat": 4,
 "nbformat_minor": 4
}
